{
 "cells": [
  {
   "cell_type": "markdown",
   "metadata": {},
   "source": [
    "# After meeting our players is time to understand if thay are replacable\n",
    "#### Part 1: Simple modules sklearn\n",
    "Here we will build simple classification moduls based on the allgames_stats dataset\n",
    "\n",
    "* Step 1: we will build new module for each player\n",
    "    * We will try several algorithems foreach player\n",
    "    * We will compare the confusion matrix for each algorithem \n",
    "* Step 2: we will test each player's dataset agains the other players module\n",
    "* Step 3: we will detamine who is the least replacable player\n",
    "\n",
    "#### Part 2: Advance classifiers\n",
    "* same test above using several Deep learning algorithms:\n",
    "    * Simple NN\n",
    "    * CNN 1D\n",
    "    * RNN using LSTM based on game date \n",
    "    \n",
    "    \n",
    "#### Preparing dataset - requerments\n",
    "As told before we will base on allgames_stats dataset\n",
    "* Result - this will be our classification parameter \n",
    "    * W = 1 (win)\n",
    "    * L = 0 (loose)\n",
    "* Opp column should be related as dummies (each opponent team should be translated to its own column)\n",
    "* MP should be converted to int\n",
    "* RSorPO \n",
    "    * RS - regular series = 1\n",
    "    * PO - playoff = 2\n",
    "* parameters to drop:\n",
    "    * Tm - players team is not relevant since we will relay on the personal skills of the player\n",
    "    * X - not relevant column\n",
    "    * GS - not relevant column \n",
    "    * 3P% - we are allready analyze the 3P and 3PA\n",
    "    * FT% - we are allready analyze the FT and FTA\n",
    "    * Player - after extracting data set for each player the Player column will not be relevant"
   ]
  },
  {
   "cell_type": "code",
   "execution_count": 430,
   "metadata": {},
   "outputs": [],
   "source": [
    "# Imports\n",
    "import numpy as np\n",
    "import pandas as pd\n",
    "import matplotlib\n",
    "import matplotlib.pyplot as plt\n",
    "%matplotlib inline\n",
    "\n",
    "import seaborn as sns\n",
    "sns.set(style=\"white\")\n",
    "sns.set(style=\"whitegrid\", color_codes=True)\n",
    "\n",
    "from sklearn import preprocessing\n",
    "from sklearn.linear_model import LogisticRegression\n",
    "from sklearn.model_selection import train_test_split\n",
    "from sklearn.metrics import confusion_matrix\n",
    "from sklearn.metrics import accuracy_score \n",
    "from sklearn.metrics import classification_report \n",
    "from sklearn.metrics import roc_auc_score\n",
    "from sklearn.metrics import roc_curve"
   ]
  },
  {
   "cell_type": "markdown",
   "metadata": {},
   "source": [
    "# Prepare functions:\n",
    "* roc_graph(X_test,y_test) = creates ROC graph"
   ]
  },
  {
   "cell_type": "code",
   "execution_count": 431,
   "metadata": {},
   "outputs": [],
   "source": [
    "def roc_graph(model1,X1_test,y1_test,model2,X2_test,y2_test,model3,X3_test,y3_test,mt): \n",
    "    plt.figure()\n",
    "    \n",
    "    logit_roc_auc1 = roc_auc_score(y1_test, model1.predict(X1_test))\n",
    "    fpr1, tpr1, thresholds1 = roc_curve(y1_test, model1.predict_proba(X1_test)[:,1])\n",
    "    plt.plot(fpr1, tpr1, label='Labron '+ mt +' (area = %0.2f)' % logit_roc_auc1,color='green')\n",
    "    \n",
    "    logit_roc_auc2 = roc_auc_score(y2_test, model2.predict(X2_test))\n",
    "    fpr2, tpr2, thresholds2 = roc_curve(y2_test, model2.predict_proba(X2_test)[:,1])\n",
    "    plt.plot(fpr2, tpr2, label='Kobe '+ mt +' (area = %0.2f)' % logit_roc_auc2, color='magenta')\n",
    "    \n",
    "    logit_roc_auc3 = roc_auc_score(y3_test, model3.predict(X3_test))\n",
    "    fpr3, tpr3, thresholds3 = roc_curve(y3_test, model3.predict_proba(X3_test)[:,1])\n",
    "    plt.plot(fpr3, tpr3, label='Jordan '+ mt +' (area = %0.2f)' % logit_roc_auc3,color='blue')\n",
    "\n",
    "    plt.plot([0, 1], [0, 1],'r--')\n",
    "    plt.xlim([0.0, 1.0])\n",
    "    plt.ylim([0.0, 1.05])\n",
    "    plt.xlabel('False Positive Rate')\n",
    "    plt.ylabel('True Positive Rate')\n",
    "    plt.title('Receiver operating characteristic')\n",
    "    plt.legend(loc=\"lower right\")\n",
    "    plt.savefig('Log_ROC')\n",
    "    plt.show()\n",
    "\n",
    "def conf_matrix(model,X_test,y_test):\n",
    "    y_pred = model.predict(X_test)\n",
    "    print('Accuracy of logistic regression classifier on test set: {:.2f}'.format(logreg.score(X_test, y_test)))\n",
    "    conf_mat = confusion_matrix(y_test, y_pred)\n",
    "    print(conf_mat)"
   ]
  },
  {
   "cell_type": "markdown",
   "metadata": {},
   "source": [
    "# Data Preperation:"
   ]
  },
  {
   "cell_type": "code",
   "execution_count": 432,
   "metadata": {},
   "outputs": [],
   "source": [
    "allgames_stats = pd.read_csv('../dataset/allgames_stats.csv')\n"
   ]
  },
  {
   "cell_type": "code",
   "execution_count": 433,
   "metadata": {},
   "outputs": [],
   "source": [
    "# Result - this will be our classification parameter\n",
    "#    W = 1 (win)\n",
    "#    L = 0 (loose)\n",
    "allgames_stats['Result'] = allgames_stats['Result'].replace(\"W\",\"1\").replace(\"L\",\"0\").astype(int)\n",
    "\n",
    "# Date should be converted to date instead of string\n",
    "# allgames_stats['Date'].describe()\n",
    "\n",
    "# Opp column should be related as dummies (each opponent team should be translated to its own column)\n",
    "allgames_stats = pd.concat([allgames_stats, allgames_stats['Opp'].str.get_dummies()], axis=1)\n",
    "\n",
    "# Opp - remove after dummies\n",
    "allgames_stats = allgames_stats.drop(columns='Opp')\n",
    "\n",
    "# MP should be converted to int\n",
    "allgames_stats['MP'] = allgames_stats['MP'].str.replace(\":\",\".\").astype(float).round(0)\n",
    "\n",
    "# RSorPO\n",
    "#    RS - regular series = 1\n",
    "#    PO - playoff = 2\n",
    "\n",
    "allgames_stats['RSorPO'] = allgames_stats['RSorPO'].replace(\"Regular Season\",\"1\").replace(\"Playoffs\",\"2\").astype(int)\n",
    "\n",
    "# parameters to drop:\n",
    "\n",
    "# Tm - players team is not relevant since we will relay on the personal skills of the player\n",
    "allgames_stats = allgames_stats.drop(columns='Tm')\n",
    "\n",
    "# X - not relevant column\n",
    "allgames_stats = allgames_stats.drop(columns='X')\n",
    "\n",
    "# GS - not relevant column\n",
    "allgames_stats = allgames_stats.drop(columns='GS')\n",
    "\n",
    "# 3P% - we are allready analyze the 3P and 3PA\n",
    "allgames_stats = allgames_stats.drop(columns='3P%')\n",
    "\n",
    "# FT% - we are allready analyze the FT and FTA\n",
    "allgames_stats = allgames_stats.drop(columns='FT%')\n",
    "\n",
    "# Date - remove date\n",
    "allgames_stats = allgames_stats.drop(columns='Date')\n",
    "# Player - after extracting data set for each player the Player column will not be relevant\n",
    "# allgames_stats = allgames_stats.drop(columns='Player')\n",
    "\n",
    "labron_points_stats =  allgames_stats[allgames_stats.Player.eq(\"Lebron James\")]\n",
    "kobe_points_stats =  allgames_stats[allgames_stats.Player.eq(\"Kobe Bryant\")]\n",
    "michael_points_stats =  allgames_stats[allgames_stats.Player.eq(\"Michael Jordan\")]"
   ]
  },
  {
   "cell_type": "markdown",
   "metadata": {},
   "source": [
    "# Classification modules sklearn\n",
    "* Linear Classifiers: \n",
    "    * Logistic Regression\n",
    "    * Naive Bayes Classifier\n",
    "* K Nearest Neighbor ( k=3 )\n",
    "* Support Vector Machines\n",
    "* Decision Trees\n",
    "* Boosted Trees\n",
    "* Random Forest\n",
    "\n",
    "# Part 1: Simple modules sklearn\n"
   ]
  },
  {
   "cell_type": "code",
   "execution_count": 434,
   "metadata": {},
   "outputs": [
    {
     "data": {
      "text/plain": [
       "1    945\n",
       "0    492\n",
       "Name: Result, dtype: int64"
      ]
     },
     "execution_count": 434,
     "metadata": {},
     "output_type": "execute_result"
    }
   ],
   "source": [
    "labron_points_stats['Result'].value_counts()"
   ]
  },
  {
   "cell_type": "code",
   "execution_count": 462,
   "metadata": {},
   "outputs": [
    {
     "data": {
      "text/plain": [
       "1    971\n",
       "0    595\n",
       "Name: Result, dtype: int64"
      ]
     },
     "execution_count": 462,
     "metadata": {},
     "output_type": "execute_result"
    }
   ],
   "source": [
    "kobe_points_stats['Result'].value_counts()"
   ]
  },
  {
   "cell_type": "code",
   "execution_count": 436,
   "metadata": {},
   "outputs": [
    {
     "data": {
      "text/plain": [
       "1    825\n",
       "0    426\n",
       "Name: Result, dtype: int64"
      ]
     },
     "execution_count": 436,
     "metadata": {},
     "output_type": "execute_result"
    }
   ],
   "source": [
    "michael_points_stats['Result'].value_counts()"
   ]
  },
  {
   "cell_type": "code",
   "execution_count": 437,
   "metadata": {},
   "outputs": [
    {
     "data": {
      "text/plain": [
       "Index([u'G', u'Result', u'MP', u'FG', u'FGA', u'FG%', u'3P', u'3PA', u'FT',\n",
       "       u'FTA', u'ORB', u'DRB', u'TRB', u'AST', u'STL', u'BLK', u'TOV', u'PF',\n",
       "       u'PTS', u'GmSc', u'Player', u'RSorPO', u'ATL', u'BOS', u'BRK', u'CHA',\n",
       "       u'CHH', u'CHI', u'CHO', u'CLE', u'DAL', u'DEN', u'DET', u'GSW', u'HOU',\n",
       "       u'IND', u'KCK', u'LAC', u'LAL', u'MEM', u'MIA', u'MIL', u'MIN', u'NJN',\n",
       "       u'NOH', u'NOK', u'NOP', u'NYK', u'OKC', u'ORL', u'PHI', u'PHO', u'POR',\n",
       "       u'SAC', u'SAS', u'SEA', u'TOR', u'UTA', u'VAN', u'WAS', u'WSB'],\n",
       "      dtype='object')"
      ]
     },
     "execution_count": 437,
     "metadata": {},
     "output_type": "execute_result"
    }
   ],
   "source": [
    "michael_points_stats.columns"
   ]
  },
  {
   "cell_type": "code",
   "execution_count": 438,
   "metadata": {},
   "outputs": [],
   "source": [
    "cols=['G','MP','FG','FGA','3P','3PA','FT','FTA','ORB','DRB','TRB','AST','STL','BLK','TOV','PF','PTS','GmSc','RSorPO','ATL','BOS','BRK','CHA','CHH','CHI','CLE','DAL','DEN','DET','GSW','HOU','IND','KCK','LAC','LAL','MEM','MIA','MIL','MIN','NJN','NOH','NOK','NOP','NYK','OKC','ORL','PHI','PHO','POR','SAC','SAS','SEA','TOR','UTA','VAN','WAS','WSB'] \n",
    "labron_X = labron_points_stats[cols].fillna(0)\n",
    "labron_y = labron_points_stats['Result']\n",
    "\n",
    "kobe_X = kobe_points_stats[cols].fillna(0)\n",
    "kobe_y = kobe_points_stats['Result']\n",
    "\n",
    "jordan_X = michael_points_stats[cols].fillna(0)\n",
    "jordan_y = michael_points_stats['Result']\n"
   ]
  },
  {
   "cell_type": "code",
   "execution_count": 439,
   "metadata": {},
   "outputs": [],
   "source": [
    "from sklearn.linear_model import LogisticRegression\n",
    "from sklearn import metrics"
   ]
  },
  {
   "cell_type": "markdown",
   "metadata": {},
   "source": [
    "# Logistic Regression\n"
   ]
  },
  {
   "cell_type": "code",
   "execution_count": 440,
   "metadata": {},
   "outputs": [
    {
     "data": {
      "text/plain": [
       "LogisticRegression(C=1.0, class_weight=None, dual=False, fit_intercept=True,\n",
       "          intercept_scaling=1, max_iter=100, multi_class='warn',\n",
       "          n_jobs=None, penalty='l2', random_state=None, solver='warn',\n",
       "          tol=0.0001, verbose=0, warm_start=False)"
      ]
     },
     "execution_count": 440,
     "metadata": {},
     "output_type": "execute_result"
    }
   ],
   "source": [
    "lab_X_train, lab_X_test, lab_y_train, lab_y_test = train_test_split(labron_X, labron_y, test_size=0.3, random_state=0)\n",
    "kobe_X_train, kobe_X_test, kobe_y_train, kobe_y_test = train_test_split(kobe_X, kobe_y, test_size=0.3, random_state=0)\n",
    "jord_X_train, jord_X_test, jord_y_train, jord_y_test = train_test_split(jordan_X, jordan_y, test_size=0.3, random_state=0)\n",
    "\n",
    "logreg_lab = LogisticRegression()\n",
    "logreg_lab.fit(X_train, y_train)\n",
    "\n",
    "logreg_kobe = LogisticRegression()\n",
    "logreg_kobe.fit(X_train, y_train)\n",
    "\n",
    "logreg_jord = LogisticRegression()\n",
    "logreg_jord.fit(X_train, y_train)\n"
   ]
  },
  {
   "cell_type": "markdown",
   "metadata": {},
   "source": [
    "#### Labron: Confussion Matrix: Logistic Regression"
   ]
  },
  {
   "cell_type": "code",
   "execution_count": 441,
   "metadata": {},
   "outputs": [
    {
     "name": "stdout",
     "output_type": "stream",
     "text": [
      "Accuracy of logistic regression classifier on test set: 0.72\n",
      "[[ 75  73]\n",
      " [ 48 236]]\n"
     ]
    }
   ],
   "source": [
    "conf_matrix(logreg_lab,lab_X_test,lab_y_test)"
   ]
  },
  {
   "cell_type": "markdown",
   "metadata": {},
   "source": [
    "|   Actual\\Predicted\t        |   Predicted Neg\t|  Predicted Pos \t|\n",
    "|:---:\t        |:---:\t|:---:\t|\n",
    "|  **Actual Neg**\t|   TN=75\t|   FP=73\t|\n",
    "|   **Actual Pos**\t|   FN=48\t|   TP=236\t|"
   ]
  },
  {
   "cell_type": "code",
   "execution_count": 442,
   "metadata": {},
   "outputs": [],
   "source": [
    "#roc_graph(logreg_lab,lab_X_test,lab_y_test)"
   ]
  },
  {
   "cell_type": "markdown",
   "metadata": {},
   "source": [
    "#### Kobe: Confussion Matrix: Logistic Regression"
   ]
  },
  {
   "cell_type": "code",
   "execution_count": 443,
   "metadata": {},
   "outputs": [
    {
     "name": "stdout",
     "output_type": "stream",
     "text": [
      "Accuracy of logistic regression classifier on test set: 0.67\n",
      "[[125  46]\n",
      " [111 188]]\n"
     ]
    }
   ],
   "source": [
    "conf_matrix(logreg_kobe,kobe_X_test,kobe_y_test)"
   ]
  },
  {
   "cell_type": "markdown",
   "metadata": {},
   "source": [
    "|   Actual\\Predicted\t        |   Predicted Neg\t|  Predicted Pos \t|\n",
    "|:---:\t        |:---:\t|:---:\t|\n",
    "|  **Actual Neg**\t|   TN=125\t|   FP=46\t|\n",
    "|   **Actual Pos**\t|   FN=111\t|   TP=188\t|"
   ]
  },
  {
   "cell_type": "code",
   "execution_count": 444,
   "metadata": {},
   "outputs": [],
   "source": [
    "#roc_graph(logreg_kobe,kobe_X_test,kobe_y_test)"
   ]
  },
  {
   "cell_type": "markdown",
   "metadata": {},
   "source": [
    "#### Labron james: Confussion Matrix: Logistic Regression"
   ]
  },
  {
   "cell_type": "code",
   "execution_count": 445,
   "metadata": {},
   "outputs": [
    {
     "name": "stdout",
     "output_type": "stream",
     "text": [
      "Accuracy of logistic regression classifier on test set: 0.66\n",
      "[[ 36 102]\n",
      " [ 25 213]]\n"
     ]
    }
   ],
   "source": [
    "conf_matrix(logreg_jord,jord_X_test,jord_y_test)"
   ]
  },
  {
   "cell_type": "markdown",
   "metadata": {},
   "source": [
    "|   Actual\\Predicted\t        |   Predicted Neg\t|  Predicted Pos \t|\n",
    "|:---:\t        |:---:\t|:---:\t|\n",
    "|  **Actual Neg**\t|   TN=36\t|   FP=102\t|\n",
    "|   **Actual Pos**\t|   FN=25\t|   TP=213\t|"
   ]
  },
  {
   "cell_type": "markdown",
   "metadata": {},
   "source": [
    "#### ROC comperation"
   ]
  },
  {
   "cell_type": "code",
   "execution_count": 446,
   "metadata": {},
   "outputs": [
    {
     "data": {
      "image/png": "[encoded data removed]",
      "text/plain": [
       "<Figure size 432x288 with 1 Axes>"
      ]
     },
     "metadata": {},
     "output_type": "display_data"
    }
   ],
   "source": [
    "roc_graph(logreg_lab,lab_X_test,lab_y_test,logreg_kobe,kobe_X_test,kobe_y_test,logreg_jord,jord_X_test,jord_y_test,'Logistical Regression')"
   ]
  },
  {
   "cell_type": "markdown",
   "metadata": {},
   "source": [
    "# Naive Bayes Classifier"
   ]
  },
  {
   "cell_type": "code",
   "execution_count": 447,
   "metadata": {},
   "outputs": [
    {
     "data": {
      "text/plain": [
       "GaussianNB(priors=None, var_smoothing=1e-09)"
      ]
     },
     "execution_count": 447,
     "metadata": {},
     "output_type": "execute_result"
    }
   ],
   "source": [
    "#Import Gaussian Naive Bayes model\n",
    "from sklearn.naive_bayes import GaussianNB\n",
    "\n",
    "lab_X_train, lab_X_test, lab_y_train, lab_y_test = train_test_split(labron_X, labron_y, test_size=0.3, random_state=0)\n",
    "kobe_X_train, kobe_X_test, kobe_y_train, kobe_y_test = train_test_split(kobe_X, kobe_y, test_size=0.3, random_state=0)\n",
    "jord_X_train, jord_X_test, jord_y_train, jord_y_test = train_test_split(jordan_X, jordan_y, test_size=0.3, random_state=0)\n",
    "\n",
    "gnb_lab = GaussianNB()\n",
    "gnb_lab.fit(X_train, y_train)\n",
    "\n",
    "gnb_kobe = GaussianNB()\n",
    "gnb_kobe.fit(X_train, y_train)\n",
    "\n",
    "gnb_jord = GaussianNB()\n",
    "gnb_jord.fit(X_train, y_train)\n"
   ]
  },
  {
   "cell_type": "markdown",
   "metadata": {},
   "source": [
    "#### Labron: Confussion Matrix: Naive Bayes"
   ]
  },
  {
   "cell_type": "code",
   "execution_count": 448,
   "metadata": {},
   "outputs": [
    {
     "name": "stdout",
     "output_type": "stream",
     "text": [
      "Accuracy of logistic regression classifier on test set: 0.72\n",
      "[[113  35]\n",
      " [200  84]]\n"
     ]
    }
   ],
   "source": [
    "conf_matrix(gnb_lab,lab_X_test,lab_y_test)"
   ]
  },
  {
   "cell_type": "markdown",
   "metadata": {},
   "source": [
    "|   Actual\\Predicted\t        |   Predicted Neg\t|  Predicted Pos \t|\n",
    "|:---:\t        |:---:\t|:---:\t|\n",
    "|  **Actual Neg**\t|   TN=113\t|   FP=35\t|\n",
    "|   **Actual Pos**\t|   FN=200\t|   TP=84\t|"
   ]
  },
  {
   "cell_type": "code",
   "execution_count": 449,
   "metadata": {},
   "outputs": [],
   "source": [
    "#roc_graph(logreg_lab,lab_X_test,lab_y_test)"
   ]
  },
  {
   "cell_type": "markdown",
   "metadata": {},
   "source": [
    "#### Kobe: Confussion Matrix: Naive Bayes"
   ]
  },
  {
   "cell_type": "code",
   "execution_count": 450,
   "metadata": {},
   "outputs": [
    {
     "name": "stdout",
     "output_type": "stream",
     "text": [
      "Accuracy of logistic regression classifier on test set: 0.67\n",
      "[[142  29]\n",
      " [218  81]]\n"
     ]
    }
   ],
   "source": [
    "conf_matrix(gnb_kobe,kobe_X_test,kobe_y_test)"
   ]
  },
  {
   "cell_type": "markdown",
   "metadata": {},
   "source": [
    "|   Actual\\Predicted\t        |   Predicted Neg\t|  Predicted Pos \t|\n",
    "|:---:\t        |:---:\t|:---:\t|\n",
    "|  **Actual Neg**\t|   TN=142\t|   FP=29\t|\n",
    "|   **Actual Pos**\t|   FN=218\t|   TP=81\t|"
   ]
  },
  {
   "cell_type": "code",
   "execution_count": 451,
   "metadata": {},
   "outputs": [],
   "source": [
    "#roc_graph(logreg_kobe,kobe_X_test,kobe_y_test)"
   ]
  },
  {
   "cell_type": "markdown",
   "metadata": {},
   "source": [
    "#### Labron james: Confussion Matrix: Naive Bayes"
   ]
  },
  {
   "cell_type": "code",
   "execution_count": 452,
   "metadata": {},
   "outputs": [
    {
     "name": "stdout",
     "output_type": "stream",
     "text": [
      "Accuracy of logistic regression classifier on test set: 0.66\n",
      "[[103  35]\n",
      " [180  58]]\n"
     ]
    }
   ],
   "source": [
    "conf_matrix(gnb_jord,jord_X_test,jord_y_test)"
   ]
  },
  {
   "cell_type": "markdown",
   "metadata": {},
   "source": [
    "|   Actual\\Predicted\t        |   Predicted Neg\t|  Predicted Pos \t|\n",
    "|:---:\t        |:---:\t|:---:\t|\n",
    "|  **Actual Neg**\t|   TN=103\t|   FP=35\t|\n",
    "|   **Actual Pos**\t|   FN=180\t|   TP=58\t|"
   ]
  },
  {
   "cell_type": "markdown",
   "metadata": {},
   "source": [
    "#### ROC comperation"
   ]
  },
  {
   "cell_type": "code",
   "execution_count": 461,
   "metadata": {},
   "outputs": [
    {
     "data": {
      "image/png": "[encoded data removed]",
      "text/plain": [
       "<Figure size 432x288 with 1 Axes>"
      ]
     },
     "metadata": {},
     "output_type": "display_data"
    }
   ],
   "source": [
    "roc_graph(gnb_lab,lab_X_test,lab_y_test,gnb_kobe,kobe_X_test,kobe_y_test,gnb_jord,jord_X_test,jord_y_test,'Naive Bayes')"
   ]
  },
  {
   "cell_type": "markdown",
   "metadata": {},
   "source": [
    "# KNN Classifier"
   ]
  },
  {
   "cell_type": "code",
   "execution_count": 484,
   "metadata": {},
   "outputs": [
    {
     "data": {
      "text/plain": [
       "KNeighborsClassifier(algorithm='auto', leaf_size=30, metric='minkowski',\n",
       "           metric_params=None, n_jobs=None, n_neighbors=3, p=2,\n",
       "           weights='uniform')"
      ]
     },
     "execution_count": 484,
     "metadata": {},
     "output_type": "execute_result"
    }
   ],
   "source": [
    "from sklearn.neighbors import KNeighborsClassifier\n",
    "\n",
    "lab_X_train, lab_X_test, lab_y_train, lab_y_test = train_test_split(labron_X, labron_y, test_size=0.3, random_state=0)\n",
    "kobe_X_train, kobe_X_test, kobe_y_train, kobe_y_test = train_test_split(kobe_X, kobe_y, test_size=0.3, random_state=0)\n",
    "jord_X_train, jord_X_test, jord_y_train, jord_y_test = train_test_split(jordan_X, jordan_y, test_size=0.3, random_state=0)\n",
    "\n",
    "knn_lab = KNeighborsClassifier(n_neighbors=3)\n",
    "knn_lab.fit(X_train, y_train)\n",
    "\n",
    "knn_kobe = KNeighborsClassifier(n_neighbors=3)\n",
    "knn_kobe.fit(X_train, y_train)\n",
    "\n",
    "knn_jord = KNeighborsClassifier(n_neighbors=3)\n",
    "knn_jord.fit(X_train, y_train)\n"
   ]
  },
  {
   "cell_type": "markdown",
   "metadata": {},
   "source": [
    "#### Labron: Confussion Matrix: Logistic Regression"
   ]
  },
  {
   "cell_type": "code",
   "execution_count": 485,
   "metadata": {},
   "outputs": [
    {
     "name": "stdout",
     "output_type": "stream",
     "text": [
      "Accuracy of logistic regression classifier on test set: 0.72\n",
      "[[ 71  77]\n",
      " [ 65 219]]\n"
     ]
    }
   ],
   "source": [
    "conf_matrix(knn_lab,lab_X_test,lab_y_test)"
   ]
  },
  {
   "cell_type": "markdown",
   "metadata": {},
   "source": [
    "|   Actual\\Predicted\t        |   Predicted Neg\t|  Predicted Pos \t|\n",
    "|:---:\t        |:---:\t|:---:\t|\n",
    "|  **Actual Neg**\t|   TN=71\t|   FP=77\t|\n",
    "|   **Actual Pos**\t|   FN=65\t|   TP=219\t|"
   ]
  },
  {
   "cell_type": "code",
   "execution_count": 486,
   "metadata": {},
   "outputs": [],
   "source": [
    "#roc_graph(logreg_lab,lab_X_test,lab_y_test)"
   ]
  },
  {
   "cell_type": "markdown",
   "metadata": {},
   "source": [
    "#### Kobe: Confussion Matrix: Logistic Regression"
   ]
  },
  {
   "cell_type": "code",
   "execution_count": 487,
   "metadata": {},
   "outputs": [
    {
     "name": "stdout",
     "output_type": "stream",
     "text": [
      "Accuracy of logistic regression classifier on test set: 0.67\n",
      "[[ 81  90]\n",
      " [106 193]]\n"
     ]
    }
   ],
   "source": [
    "conf_matrix(knn_kobe,kobe_X_test,kobe_y_test)"
   ]
  },
  {
   "cell_type": "markdown",
   "metadata": {},
   "source": [
    "|   Actual\\Predicted\t        |   Predicted Neg\t|  Predicted Pos \t|\n",
    "|:---:\t        |:---:\t|:---:\t|\n",
    "|  **Actual Neg**\t|   TN=81\t|   FP=90\t|\n",
    "|   **Actual Pos**\t|   FN=106\t|   TP=193\t|"
   ]
  },
  {
   "cell_type": "code",
   "execution_count": 488,
   "metadata": {},
   "outputs": [],
   "source": [
    "#roc_graph(logreg_kobe,kobe_X_test,kobe_y_test)"
   ]
  },
  {
   "cell_type": "markdown",
   "metadata": {},
   "source": [
    "#### Labron james: Confussion Matrix: Logistic Regression"
   ]
  },
  {
   "cell_type": "code",
   "execution_count": 489,
   "metadata": {},
   "outputs": [
    {
     "name": "stdout",
     "output_type": "stream",
     "text": [
      "Accuracy of logistic regression classifier on test set: 0.66\n",
      "[[ 55  83]\n",
      " [ 61 177]]\n"
     ]
    }
   ],
   "source": [
    "conf_matrix(knn_jord,jord_X_test,jord_y_test)"
   ]
  },
  {
   "cell_type": "markdown",
   "metadata": {},
   "source": [
    "|   Actual\\Predicted\t        |   Predicted Neg\t|  Predicted Pos \t|\n",
    "|:---:\t        |:---:\t|:---:\t|\n",
    "|  **Actual Neg**\t|   TN=55\t|   FP=83\t|\n",
    "|   **Actual Pos**\t|   FN=61\t|   TP=177\t|"
   ]
  },
  {
   "cell_type": "markdown",
   "metadata": {},
   "source": [
    "#### ROC comperation"
   ]
  },
  {
   "cell_type": "code",
   "execution_count": 490,
   "metadata": {},
   "outputs": [
    {
     "data": {
      "image/png": "[encoded data removed]",
      "text/plain": [
       "<Figure size 432x288 with 1 Axes>"
      ]
     },
     "metadata": {},
     "output_type": "display_data"
    }
   ],
   "source": [
    "roc_graph(knn_lab,lab_X_test,lab_y_test,knn_kobe,kobe_X_test,kobe_y_test,knn_jord,jord_X_test,jord_y_test,'KNN')"
   ]
  },
  {
   "cell_type": "markdown",
   "metadata": {},
   "source": [
    "# SVM Classifier"
   ]
  },
  {
   "cell_type": "code",
   "execution_count": 539,
   "metadata": {},
   "outputs": [
    {
     "data": {
      "text/plain": [
       "SVC(C=1.0, cache_size=200, class_weight=None, coef0=0.0,\n",
       "  decision_function_shape='ovr', degree=3, gamma='auto_deprecated',\n",
       "  kernel='linear', max_iter=-1, probability=True, random_state=None,\n",
       "  shrinking=True, tol=0.001, verbose=False)"
      ]
     },
     "execution_count": 539,
     "metadata": {},
     "output_type": "execute_result"
    }
   ],
   "source": [
    "from sklearn.svm import SVC\n",
    "\n",
    "lab_X_train, lab_X_test, lab_y_train, lab_y_test = train_test_split(labron_X, labron_y, test_size=0.3, random_state=0)\n",
    "kobe_X_train, kobe_X_test, kobe_y_train, kobe_y_test = train_test_split(kobe_X, kobe_y, test_size=0.3, random_state=0)\n",
    "jord_X_train, jord_X_test, jord_y_train, jord_y_test = train_test_split(jordan_X, jordan_y, test_size=0.3, random_state=0)\n",
    "\n",
    "svm_lab = SVC(kernel='linear',probability=True)\n",
    "svm_lab.fit(X_train, y_train)\n",
    "\n",
    "svm_kobe = SVC(kernel='linear',probability=True)\n",
    "svm_kobe.fit(X_train, y_train)\n",
    "\n",
    "svm_jord = SVC(kernel='linear',probability=True)\n",
    "svm_jord.fit(X_train, y_train)\n"
   ]
  },
  {
   "cell_type": "markdown",
   "metadata": {},
   "source": [
    "#### Labron: Confussion Matrix: Logistic Regression"
   ]
  },
  {
   "cell_type": "code",
   "execution_count": 540,
   "metadata": {},
   "outputs": [
    {
     "name": "stdout",
     "output_type": "stream",
     "text": [
      "Accuracy of logistic regression classifier on test set: 0.72\n",
      "[[ 77  71]\n",
      " [ 44 240]]\n"
     ]
    }
   ],
   "source": [
    "conf_matrix(svm_lab,lab_X_test,lab_y_test)"
   ]
  },
  {
   "cell_type": "markdown",
   "metadata": {},
   "source": [
    "|   Actual\\Predicted\t        |   Predicted Neg\t|  Predicted Pos \t|\n",
    "|:---:\t        |:---:\t|:---:\t|\n",
    "|  **Actual Neg**\t|   TN=71\t|   FP=77\t|\n",
    "|   **Actual Pos**\t|   FN=65\t|   TP=219\t|"
   ]
  },
  {
   "cell_type": "code",
   "execution_count": 541,
   "metadata": {},
   "outputs": [],
   "source": [
    "#roc_graph(logreg_lab,lab_X_test,lab_y_test)"
   ]
  },
  {
   "cell_type": "markdown",
   "metadata": {},
   "source": [
    "#### Kobe: Confussion Matrix: Logistic Regression"
   ]
  },
  {
   "cell_type": "code",
   "execution_count": 542,
   "metadata": {},
   "outputs": [
    {
     "name": "stdout",
     "output_type": "stream",
     "text": [
      "Accuracy of logistic regression classifier on test set: 0.67\n",
      "[[127  44]\n",
      " [115 184]]\n"
     ]
    }
   ],
   "source": [
    "conf_matrix(svm_kobe,kobe_X_test,kobe_y_test)"
   ]
  },
  {
   "cell_type": "markdown",
   "metadata": {},
   "source": [
    "|   Actual\\Predicted\t        |   Predicted Neg\t|  Predicted Pos \t|\n",
    "|:---:\t        |:---:\t|:---:\t|\n",
    "|  **Actual Neg**\t|   TN=81\t|   FP=90\t|\n",
    "|   **Actual Pos**\t|   FN=106\t|   TP=193\t|"
   ]
  },
  {
   "cell_type": "code",
   "execution_count": 543,
   "metadata": {},
   "outputs": [],
   "source": [
    "#roc_graph(logreg_kobe,kobe_X_test,kobe_y_test)"
   ]
  },
  {
   "cell_type": "markdown",
   "metadata": {},
   "source": [
    "#### Labron james: Confussion Matrix: Logistic Regression"
   ]
  },
  {
   "cell_type": "code",
   "execution_count": 544,
   "metadata": {},
   "outputs": [
    {
     "name": "stdout",
     "output_type": "stream",
     "text": [
      "Accuracy of logistic regression classifier on test set: 0.66\n",
      "[[ 35 103]\n",
      " [ 27 211]]\n"
     ]
    }
   ],
   "source": [
    "conf_matrix(svm_jord,jord_X_test,jord_y_test)"
   ]
  },
  {
   "cell_type": "markdown",
   "metadata": {},
   "source": [
    "|   Actual\\Predicted\t        |   Predicted Neg\t|  Predicted Pos \t|\n",
    "|:---:\t        |:---:\t|:---:\t|\n",
    "|  **Actual Neg**\t|   TN=55\t|   FP=83\t|\n",
    "|   **Actual Pos**\t|   FN=61\t|   TP=177\t|"
   ]
  },
  {
   "cell_type": "markdown",
   "metadata": {},
   "source": [
    "#### ROC comperation"
   ]
  },
  {
   "cell_type": "code",
   "execution_count": 545,
   "metadata": {},
   "outputs": [
    {
     "data": {
      "image/png": "[encoded data removed]",
      "text/plain": [
       "<Figure size 432x288 with 1 Axes>"
      ]
     },
     "metadata": {},
     "output_type": "display_data"
    }
   ],
   "source": [
    "roc_graph(svm_lab,lab_X_test,lab_y_test,svm_kobe,kobe_X_test,kobe_y_test,svm_jord,jord_X_test,jord_y_test,'SVM')"
   ]
  },
  {
   "cell_type": "markdown",
   "metadata": {},
   "source": [
    "# Decision Trees Classifier"
   ]
  },
  {
   "cell_type": "code",
   "execution_count": 539,
   "metadata": {},
   "outputs": [
    {
     "data": {
      "text/plain": [
       "SVC(C=1.0, cache_size=200, class_weight=None, coef0=0.0,\n",
       "  decision_function_shape='ovr', degree=3, gamma='auto_deprecated',\n",
       "  kernel='linear', max_iter=-1, probability=True, random_state=None,\n",
       "  shrinking=True, tol=0.001, verbose=False)"
      ]
     },
     "execution_count": 539,
     "metadata": {},
     "output_type": "execute_result"
    }
   ],
   "source": [
    "from sklearn.svm import SVC\n",
    "\n",
    "lab_X_train, lab_X_test, lab_y_train, lab_y_test = train_test_split(labron_X, labron_y, test_size=0.3, random_state=0)\n",
    "kobe_X_train, kobe_X_test, kobe_y_train, kobe_y_test = train_test_split(kobe_X, kobe_y, test_size=0.3, random_state=0)\n",
    "jord_X_train, jord_X_test, jord_y_train, jord_y_test = train_test_split(jordan_X, jordan_y, test_size=0.3, random_state=0)\n",
    "\n",
    "svm_lab = SVC(kernel='linear',probability=True)\n",
    "svm_lab.fit(X_train, y_train)\n",
    "\n",
    "svm_kobe = SVC(kernel='linear',probability=True)\n",
    "svm_kobe.fit(X_train, y_train)\n",
    "\n",
    "svm_jord = SVC(kernel='linear',probability=True)\n",
    "svm_jord.fit(X_train, y_train)\n"
   ]
  },
  {
   "cell_type": "markdown",
   "metadata": {},
   "source": [
    "#### Labron: Confussion Matrix: Logistic Regression"
   ]
  },
  {
   "cell_type": "code",
   "execution_count": 540,
   "metadata": {},
   "outputs": [
    {
     "name": "stdout",
     "output_type": "stream",
     "text": [
      "Accuracy of logistic regression classifier on test set: 0.72\n",
      "[[ 77  71]\n",
      " [ 44 240]]\n"
     ]
    }
   ],
   "source": [
    "conf_matrix(svm_lab,lab_X_test,lab_y_test)"
   ]
  },
  {
   "cell_type": "markdown",
   "metadata": {},
   "source": [
    "|   Actual\\Predicted\t        |   Predicted Neg\t|  Predicted Pos \t|\n",
    "|:---:\t        |:---:\t|:---:\t|\n",
    "|  **Actual Neg**\t|   TN=71\t|   FP=77\t|\n",
    "|   **Actual Pos**\t|   FN=65\t|   TP=219\t|"
   ]
  },
  {
   "cell_type": "code",
   "execution_count": 541,
   "metadata": {},
   "outputs": [],
   "source": [
    "#roc_graph(logreg_lab,lab_X_test,lab_y_test)"
   ]
  },
  {
   "cell_type": "markdown",
   "metadata": {},
   "source": [
    "#### Kobe: Confussion Matrix: Logistic Regression"
   ]
  },
  {
   "cell_type": "code",
   "execution_count": 542,
   "metadata": {},
   "outputs": [
    {
     "name": "stdout",
     "output_type": "stream",
     "text": [
      "Accuracy of logistic regression classifier on test set: 0.67\n",
      "[[127  44]\n",
      " [115 184]]\n"
     ]
    }
   ],
   "source": [
    "conf_matrix(svm_kobe,kobe_X_test,kobe_y_test)"
   ]
  },
  {
   "cell_type": "markdown",
   "metadata": {},
   "source": [
    "|   Actual\\Predicted\t        |   Predicted Neg\t|  Predicted Pos \t|\n",
    "|:---:\t        |:---:\t|:---:\t|\n",
    "|  **Actual Neg**\t|   TN=81\t|   FP=90\t|\n",
    "|   **Actual Pos**\t|   FN=106\t|   TP=193\t|"
   ]
  },
  {
   "cell_type": "code",
   "execution_count": 543,
   "metadata": {},
   "outputs": [],
   "source": [
    "#roc_graph(logreg_kobe,kobe_X_test,kobe_y_test)"
   ]
  },
  {
   "cell_type": "markdown",
   "metadata": {},
   "source": [
    "#### Labron james: Confussion Matrix: Logistic Regression"
   ]
  },
  {
   "cell_type": "code",
   "execution_count": 544,
   "metadata": {},
   "outputs": [
    {
     "name": "stdout",
     "output_type": "stream",
     "text": [
      "Accuracy of logistic regression classifier on test set: 0.66\n",
      "[[ 35 103]\n",
      " [ 27 211]]\n"
     ]
    }
   ],
   "source": [
    "conf_matrix(svm_jord,jord_X_test,jord_y_test)"
   ]
  },
  {
   "cell_type": "markdown",
   "metadata": {},
   "source": [
    "|   Actual\\Predicted\t        |   Predicted Neg\t|  Predicted Pos \t|\n",
    "|:---:\t        |:---:\t|:---:\t|\n",
    "|  **Actual Neg**\t|   TN=55\t|   FP=83\t|\n",
    "|   **Actual Pos**\t|   FN=61\t|   TP=177\t|"
   ]
  },
  {
   "cell_type": "markdown",
   "metadata": {},
   "source": [
    "#### ROC comperation"
   ]
  },
  {
   "cell_type": "code",
   "execution_count": 545,
   "metadata": {},
   "outputs": [
    {
     "data": {
      "image/png": "[encoded data removed]",
      "text/plain": [
       "<Figure size 432x288 with 1 Axes>"
      ]
     },
     "metadata": {},
     "output_type": "display_data"
    }
   ],
   "source": [
    "roc_graph(svm_lab,lab_X_test,lab_y_test,svm_kobe,kobe_X_test,kobe_y_test,svm_jord,jord_X_test,jord_y_test,'SVM')"
   ]
  },
  {
   "cell_type": "code",
   "execution_count": null,
   "metadata": {},
   "outputs": [],
   "source": []
  },
  {
   "cell_type": "code",
   "execution_count": null,
   "metadata": {},
   "outputs": [],
   "source": []
  },
  {
   "cell_type": "code",
   "execution_count": null,
   "metadata": {},
   "outputs": [],
   "source": []
  },
  {
   "cell_type": "code",
   "execution_count": null,
   "metadata": {},
   "outputs": [],
   "source": []
  },
  {
   "cell_type": "code",
   "execution_count": null,
   "metadata": {},
   "outputs": [],
   "source": []
  },
  {
   "cell_type": "code",
   "execution_count": null,
   "metadata": {},
   "outputs": [],
   "source": []
  },
  {
   "cell_type": "code",
   "execution_count": null,
   "metadata": {},
   "outputs": [],
   "source": []
  }
 ],
 "metadata": {
  "kernelspec": {
   "display_name": "Python 2",
   "language": "python",
   "name": "python2"
  },
  "language_info": {
   "codemirror_mode": {
    "name": "ipython",
    "version": 2
   },
   "file_extension": ".py",
   "mimetype": "text/x-python",
   "name": "python",
   "nbconvert_exporter": "python",
   "pygments_lexer": "ipython2",
   "version": "2.7.16"
  }
 },
 "nbformat": 4,
 "nbformat_minor": 2
}
